{
 "cells": [
  {
   "cell_type": "code",
   "execution_count": 1,
   "metadata": {},
   "outputs": [],
   "source": [
    "import numpy as np\n",
    "import json\n",
    "from pathlib import Path\n",
    "import os\n",
    "import random\n",
    "from tqdm.notebook import tqdm\n",
    "import torch\n",
    "from torch import nn\n",
    "import torch.nn.functional as F\n",
    "from torch.utils.data import Dataset, DataLoader\n",
    "import torch.optim as optim\n",
    "from sklearn.model_selection import train_test_split"
   ]
  },
  {
   "cell_type": "code",
   "execution_count": 3,
   "metadata": {},
   "outputs": [],
   "source": [
    "def seed_everything(seed_value):\n",
    "    random.seed(seed_value)\n",
    "    np.random.seed(seed_value)\n",
    "    torch.manual_seed(seed_value)\n",
    "    os.environ['PYTHONHASHSEED'] = str(seed_value)\n",
    "    \n",
    "    if torch.cuda.is_available(): \n",
    "        torch.cuda.manual_seed(seed_value)\n",
    "        torch.cuda.manual_seed_all(seed_value)\n",
    "        torch.backends.cudnn.deterministic = True\n",
    "        torch.backends.cudnn.benchmark = True\n",
    "\n",
    "seed = 42\n",
    "seed_everything(seed)"
   ]
  },
  {
   "cell_type": "code",
   "execution_count": 50,
   "metadata": {},
   "outputs": [],
   "source": [
    "def to_label(action, obs):\n",
    "    strs = action.split(' ')\n",
    "    unit_id = strs[1]\n",
    "    if strs[0] == 'm':\n",
    "        label = {'c': None, 'n': 0, 's': 1, 'w': 2, 'e': 3}[strs[2]]\n",
    "    elif strs[0] == 'bcity':\n",
    "        label = 4\n",
    "    else:\n",
    "        label = None\n",
    "    \n",
    "    unit_pos = (0,0)\n",
    "    \n",
    "    width, height = obs['width'], obs['height']\n",
    "    x_shift = (32 - width) // 2\n",
    "    y_shift = (32 - height) // 2\n",
    "    for update in obs[\"updates\"]:\n",
    "        strs = update.split(\" \")\n",
    "        if strs[0] == \"u\" and strs[3] == unit_id:\n",
    "            unit_pos = (int(strs[4]) + x_shift, int(strs[5]) + y_shift)\n",
    "    return unit_id, label, unit_pos\n",
    "\n",
    "def depleted_resources(obs):\n",
    "    for u in obs['updates']:\n",
    "        if u.split(' ')[0] == 'r':\n",
    "            return False\n",
    "    return True\n",
    "\n",
    "def create_dataset_from_json(main_dir, team_name='Toad Brigade'): \n",
    "    obses = {}\n",
    "    samples = []\n",
    "    append = samples.append\n",
    "   # ep_dir = [path for path in os.listdir(episode_dir)][:1]\n",
    "    for episode_dir in os.listdir(main_dir):\n",
    "        episode_path = os.path.join(main_dir, episode_dir)\n",
    "        if os.path.isdir(episode_path):\n",
    "            #episodes = [path for path in Path(dir).glob('*.json') if 'output' not in path.name]\n",
    "            filepath = os.path.join(episode_path, f\"{episode_dir}.json\")\n",
    "            #print(game_file_pattern)\n",
    "            #episodes = episodes[:len(episodes) // 3]\n",
    "            #for filepath in tqdm(game_file_pattern): \n",
    "            with open(filepath) as f:\n",
    "                json_load = json.load(f)\n",
    "            ep_id = json_load['info']['EpisodeId']\n",
    "            index = np.argmax([r or 0 for r in json_load['rewards']])\n",
    "            if json_load['info']['TeamNames'][index] != team_name:\n",
    "                continue\n",
    "\n",
    "            for i in range(len(json_load['steps'])-1):\n",
    "                if json_load['steps'][i][index]['status'] == 'ACTIVE':\n",
    "                    actions = json_load['steps'][i+1][index]['action']\n",
    "                    obs = json_load['steps'][i][0]['observation']\n",
    "                    \n",
    "                    if depleted_resources(obs):\n",
    "                        break\n",
    "                    \n",
    "                    obs['player'] = index\n",
    "                    obs = dict([\n",
    "                        (k,v) for k,v in obs.items() \n",
    "                        if k in ['step', 'updates', 'player', 'width', 'height']\n",
    "                    ])\n",
    "                    \n",
    "                    obs_id = f'{ep_id}_{i}'\n",
    "                    obses[obs_id] = obs\n",
    "                    \n",
    "                    action_map = np.zeros((5,32,32))\n",
    "                    mask = np.zeros((5,32,32))\n",
    "\n",
    "                    for action in actions:\n",
    "                        unit_id, label, unit_pos = to_label(action, obs)\n",
    "                        if label is not None:\n",
    "                            action_map[label, unit_pos[0], unit_pos[1]] = 1\n",
    "                            mask[:, unit_pos[0], unit_pos[1]] = 1\n",
    "                            \n",
    "                    mask = mask.astype('bool')\n",
    "                    action_map = action_map.astype('bool')\n",
    "                    #if len(samples) < 210_000:\n",
    "                    append((obs_id, action_map,mask))\n",
    "\n",
    "    return obses, samples"
   ]
  },
  {
   "cell_type": "code",
   "execution_count": 51,
   "metadata": {},
   "outputs": [
    {
     "name": "stdout",
     "output_type": "stream",
     "text": [
      "obses: 128499 samples: 128499\n"
     ]
    }
   ],
   "source": [
    "episode_dir = '23281649'\n",
    "obses, samples = create_dataset_from_json(episode_dir)\n",
    "obses = obses\n",
    "print('obses:', len(obses), 'samples:', len(samples))"
   ]
  },
  {
   "cell_type": "code",
   "execution_count": null,
   "metadata": {},
   "outputs": [],
   "source": []
  }
 ],
 "metadata": {
  "kernelspec": {
   "display_name": "base",
   "language": "python",
   "name": "python3"
  },
  "language_info": {
   "codemirror_mode": {
    "name": "ipython",
    "version": 3
   },
   "file_extension": ".py",
   "mimetype": "text/x-python",
   "name": "python",
   "nbconvert_exporter": "python",
   "pygments_lexer": "ipython3",
   "version": "3.11.5"
  }
 },
 "nbformat": 4,
 "nbformat_minor": 2
}
